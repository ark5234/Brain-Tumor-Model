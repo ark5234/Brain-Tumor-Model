{
 "cells": [
  {
   "cell_type": "code",
   "execution_count": 1,
   "id": "9eba2400",
   "metadata": {
    "execution": {
     "iopub.execute_input": "2025-02-26T18:07:05.399540Z",
     "iopub.status.busy": "2025-02-26T18:07:05.399209Z",
     "iopub.status.idle": "2025-02-26T18:07:06.000155Z",
     "shell.execute_reply": "2025-02-26T18:07:05.999193Z"
    },
    "papermill": {
     "duration": 0.606145,
     "end_time": "2025-02-26T18:07:06.001710",
     "exception": false,
     "start_time": "2025-02-26T18:07:05.395565",
     "status": "completed"
    },
    "tags": []
   },
   "outputs": [
    {
     "name": "stdout",
     "output_type": "stream",
     "text": [
      "Path to dataset files: /kaggle/input/brain-tumor-dataset-includes-the-mask-and-images\n"
     ]
    }
   ],
   "source": [
    "import kagglehub\n",
    "\n",
    "# Download latest version\n",
    "path = kagglehub.dataset_download(\"tinashri/brain-tumor-dataset-includes-the-mask-and-images\")\n",
    "\n",
    "print(\"Path to dataset files:\", path)"
   ]
  },
  {
   "cell_type": "code",
   "execution_count": 2,
   "id": "d2133d14",
   "metadata": {
    "execution": {
     "iopub.execute_input": "2025-02-26T18:07:06.007549Z",
     "iopub.status.busy": "2025-02-26T18:07:06.007273Z",
     "iopub.status.idle": "2025-02-26T18:07:06.043103Z",
     "shell.execute_reply": "2025-02-26T18:07:06.042272Z"
    },
    "papermill": {
     "duration": 0.040019,
     "end_time": "2025-02-26T18:07:06.044337",
     "exception": false,
     "start_time": "2025-02-26T18:07:06.004318",
     "status": "completed"
    },
    "tags": []
   },
   "outputs": [
    {
     "name": "stdout",
     "output_type": "stream",
     "text": [
      "Images folder exists: True\n",
      "Masks folder exists: True\n"
     ]
    }
   ],
   "source": [
    "import os\n",
    "\n",
    "dataset_path = \"/kaggle/input/brain-tumor-dataset-includes-the-mask-and-images/data/data\"\n",
    "print(\"Images folder exists:\", os.path.exists(os.path.join(dataset_path, \"images\")))\n",
    "print(\"Masks folder exists:\", os.path.exists(os.path.join(dataset_path, \"masks\")))\n"
   ]
  },
  {
   "cell_type": "code",
   "execution_count": 3,
   "id": "98c51a48",
   "metadata": {
    "_cell_guid": "b1076dfc-b9ad-4769-8c92-a6c4dae69d19",
    "_uuid": "8f2839f25d086af736a60e9eeb907d3b93b6e0e5",
    "execution": {
     "iopub.execute_input": "2025-02-26T18:07:06.049764Z",
     "iopub.status.busy": "2025-02-26T18:07:06.049547Z",
     "iopub.status.idle": "2025-02-26T18:07:06.264756Z",
     "shell.execute_reply": "2025-02-26T18:07:06.264004Z"
    },
    "papermill": {
     "duration": 0.219592,
     "end_time": "2025-02-26T18:07:06.266290",
     "exception": false,
     "start_time": "2025-02-26T18:07:06.046698",
     "status": "completed"
    },
    "tags": []
   },
   "outputs": [
    {
     "name": "stdout",
     "output_type": "stream",
     "text": [
      "Found 3064 images and 3064 masks\n"
     ]
    }
   ],
   "source": [
    "from glob import glob\n",
    "\n",
    "images = glob(f\"{dataset_path}/images/*\")\n",
    "masks = glob(f\"{dataset_path}/masks/*\")\n",
    "\n",
    "print(f\"Found {len(images)} images and {len(masks)} masks\")\n"
   ]
  },
  {
   "cell_type": "code",
   "execution_count": 4,
   "id": "a1e39f6a",
   "metadata": {
    "execution": {
     "iopub.execute_input": "2025-02-26T18:07:06.274581Z",
     "iopub.status.busy": "2025-02-26T18:07:06.274258Z",
     "iopub.status.idle": "2025-02-26T18:07:14.643076Z",
     "shell.execute_reply": "2025-02-26T18:07:14.642055Z"
    },
    "papermill": {
     "duration": 8.374084,
     "end_time": "2025-02-26T18:07:14.644397",
     "exception": false,
     "start_time": "2025-02-26T18:07:06.270313",
     "status": "completed"
    },
    "tags": []
   },
   "outputs": [
    {
     "name": "stdout",
     "output_type": "stream",
     "text": [
      "Train: 2452 images\n",
      "Validation: 306 images\n",
      "Test: 306 images\n",
      "Sample batch shape - Images: torch.Size([16, 3, 256, 256]), Masks: torch.Size([16, 1, 256, 256])\n"
     ]
    }
   ],
   "source": [
    "import os\n",
    "import numpy as np\n",
    "import torch\n",
    "import cv2\n",
    "from glob import glob\n",
    "from torch.utils.data import Dataset, DataLoader, random_split\n",
    "import torchvision.transforms as transforms\n",
    "\n",
    "# Set image dimensions\n",
    "H, W = 256, 256\n",
    "\n",
    "# Define dataset class\n",
    "class BrainTumorDataset(Dataset):\n",
    "    def __init__(self, image_paths, mask_paths, transform=None):\n",
    "        self.image_paths = image_paths\n",
    "        self.mask_paths = mask_paths\n",
    "        self.transform = transform\n",
    "\n",
    "    def __len__(self):\n",
    "        return len(self.image_paths)\n",
    "\n",
    "    def __getitem__(self, idx):\n",
    "        image_path = self.image_paths[idx]\n",
    "        mask_path = self.mask_paths[idx]\n",
    "\n",
    "        # Load image and mask\n",
    "        image = cv2.imread(image_path, cv2.IMREAD_COLOR)\n",
    "        mask = cv2.imread(mask_path, cv2.IMREAD_GRAYSCALE)\n",
    "\n",
    "        # Resize to fixed dimensions\n",
    "        image = cv2.resize(image, (H, W))\n",
    "        mask = cv2.resize(mask, (H, W))\n",
    "\n",
    "        # Normalize image (scale pixel values to [0,1])\n",
    "        image = image.astype(np.float32) / 255.0\n",
    "        mask = mask.astype(np.float32) / 255.0\n",
    "\n",
    "        # Convert to tensors\n",
    "        image = torch.tensor(image, dtype=torch.float32).permute(2, 0, 1)  # (C, H, W)\n",
    "        mask = torch.tensor(mask, dtype=torch.float32).unsqueeze(0)  # (1, H, W)\n",
    "\n",
    "        if self.transform:\n",
    "            image = self.transform(image)\n",
    "\n",
    "        return image, mask\n",
    "\n",
    "# Load dataset paths\n",
    "def load_dataset(path, split=0.1):\n",
    "    image_dir = os.path.join(path, \"images\")\n",
    "    mask_dir = os.path.join(path, \"masks\")\n",
    "\n",
    "    image_paths = sorted(glob(f\"{image_dir}/*\"))\n",
    "    mask_paths = sorted(glob(f\"{mask_dir}/*\"))\n",
    "\n",
    "    if len(image_paths) == 0 or len(mask_paths) == 0:\n",
    "        raise ValueError(f\"No images or masks found in {path}. Check dataset structure.\")\n",
    "\n",
    "    # Split data\n",
    "    total_size = len(image_paths)\n",
    "    test_size = int(total_size * split)\n",
    "    valid_size = int(total_size * split)\n",
    "    train_size = total_size - (test_size + valid_size)\n",
    "\n",
    "    dataset = BrainTumorDataset(image_paths, mask_paths)\n",
    "    train_dataset, valid_dataset, test_dataset = random_split(dataset, [train_size, valid_size, test_size])\n",
    "\n",
    "    return train_dataset, valid_dataset, test_dataset\n",
    "\n",
    "# Create DataLoader\n",
    "def create_dataloaders(dataset_path, batch_size=16):\n",
    "    train_dataset, valid_dataset, test_dataset = load_dataset(dataset_path)\n",
    "\n",
    "    train_loader = DataLoader(train_dataset, batch_size=batch_size, shuffle=True)\n",
    "    valid_loader = DataLoader(valid_dataset, batch_size=batch_size, shuffle=False)\n",
    "    test_loader = DataLoader(test_dataset, batch_size=batch_size, shuffle=False)\n",
    "\n",
    "    return train_loader, valid_loader, test_loader\n",
    "\n",
    "# Main script\n",
    "if __name__ == \"__main__\":\n",
    "    dataset_path = \"/kaggle/input/brain-tumor-dataset-includes-the-mask-and-images/data/data\"\n",
    "\n",
    "    # Create DataLoaders\n",
    "    train_loader, valid_loader, test_loader = create_dataloaders(dataset_path, batch_size=16)\n",
    "\n",
    "    # Print dataset sizes\n",
    "    print(f\"Train: {len(train_loader.dataset)} images\")\n",
    "    print(f\"Validation: {len(valid_loader.dataset)} images\")\n",
    "    print(f\"Test: {len(test_loader.dataset)} images\")\n",
    "\n",
    "    # Get a batch of images and masks\n",
    "    sample_images, sample_masks = next(iter(train_loader))\n",
    "    print(f\"Sample batch shape - Images: {sample_images.shape}, Masks: {sample_masks.shape}\")\n"
   ]
  },
  {
   "cell_type": "code",
   "execution_count": 5,
   "id": "60e886f2",
   "metadata": {
    "execution": {
     "iopub.execute_input": "2025-02-26T18:07:14.650701Z",
     "iopub.status.busy": "2025-02-26T18:07:14.650332Z",
     "iopub.status.idle": "2025-02-26T18:07:15.236784Z",
     "shell.execute_reply": "2025-02-26T18:07:15.235819Z"
    },
    "papermill": {
     "duration": 0.591414,
     "end_time": "2025-02-26T18:07:15.238557",
     "exception": false,
     "start_time": "2025-02-26T18:07:14.647143",
     "status": "completed"
    },
    "tags": []
   },
   "outputs": [],
   "source": [
    "import torch\n",
    "import torch.nn as nn\n",
    "import torch.optim as optim\n",
    "\n",
    "# Define U-Net Model\n",
    "class UNet(nn.Module):\n",
    "    def __init__(self):\n",
    "        super(UNet, self).__init__()\n",
    "\n",
    "        # Encoder (Downsampling)\n",
    "        self.enc1 = self.conv_block(3, 64)\n",
    "        self.enc2 = self.conv_block(64, 128)\n",
    "        self.enc3 = self.conv_block(128, 256)\n",
    "        self.enc4 = self.conv_block(256, 512)\n",
    "\n",
    "        # Bottleneck\n",
    "        self.bottleneck = self.conv_block(512, 1024)\n",
    "\n",
    "        # Decoder (Upsampling)\n",
    "        self.upconv4 = self.upconv(1024, 512)\n",
    "        self.dec4 = self.conv_block(1024, 512)\n",
    "\n",
    "        self.upconv3 = self.upconv(512, 256)\n",
    "        self.dec3 = self.conv_block(512, 256)\n",
    "\n",
    "        self.upconv2 = self.upconv(256, 128)\n",
    "        self.dec2 = self.conv_block(256, 128)\n",
    "\n",
    "        self.upconv1 = self.upconv(128, 64)\n",
    "        self.dec1 = self.conv_block(128, 64)\n",
    "\n",
    "        # Final Convolution Layer\n",
    "        self.final_conv = nn.Conv2d(64, 1, kernel_size=1)\n",
    "\n",
    "    def conv_block(self, in_channels, out_channels):\n",
    "        return nn.Sequential(\n",
    "            nn.Conv2d(in_channels, out_channels, kernel_size=3, padding=1),\n",
    "            nn.BatchNorm2d(out_channels),\n",
    "            nn.ReLU(inplace=True),\n",
    "            nn.Conv2d(out_channels, out_channels, kernel_size=3, padding=1),\n",
    "            nn.BatchNorm2d(out_channels),\n",
    "            nn.ReLU(inplace=True),\n",
    "        )\n",
    "\n",
    "    def upconv(self, in_channels, out_channels):\n",
    "        return nn.ConvTranspose2d(in_channels, out_channels, kernel_size=2, stride=2)\n",
    "\n",
    "    def forward(self, x):\n",
    "        # Encoder\n",
    "        enc1 = self.enc1(x)\n",
    "        enc2 = self.enc2(nn.MaxPool2d(2)(enc1))\n",
    "        enc3 = self.enc3(nn.MaxPool2d(2)(enc2))\n",
    "        enc4 = self.enc4(nn.MaxPool2d(2)(enc3))\n",
    "\n",
    "        # Bottleneck\n",
    "        bottleneck = self.bottleneck(nn.MaxPool2d(2)(enc4))\n",
    "\n",
    "        # Decoder\n",
    "        up4 = self.upconv4(bottleneck)\n",
    "        up4 = torch.cat([up4, enc4], dim=1)\n",
    "        dec4 = self.dec4(up4)\n",
    "\n",
    "        up3 = self.upconv3(dec4)\n",
    "        up3 = torch.cat([up3, enc3], dim=1)\n",
    "        dec3 = self.dec3(up3)\n",
    "\n",
    "        up2 = self.upconv2(dec3)\n",
    "        up2 = torch.cat([up2, enc2], dim=1)\n",
    "        dec2 = self.dec2(up2)\n",
    "\n",
    "        up1 = self.upconv1(dec2)\n",
    "        up1 = torch.cat([up1, enc1], dim=1)\n",
    "        dec1 = self.dec1(up1)\n",
    "\n",
    "        return torch.sigmoid(self.final_conv(dec1))  # Sigmoid for binary segmentation\n",
    "\n",
    "# Instantiate Model\n",
    "device = torch.device(\"cuda\" if torch.cuda.is_available() else \"cpu\")\n",
    "model = UNet().to(device)\n"
   ]
  },
  {
   "cell_type": "code",
   "execution_count": 6,
   "id": "18356411",
   "metadata": {
    "execution": {
     "iopub.execute_input": "2025-02-26T18:07:15.248334Z",
     "iopub.status.busy": "2025-02-26T18:07:15.248029Z",
     "iopub.status.idle": "2025-02-26T18:07:15.254547Z",
     "shell.execute_reply": "2025-02-26T18:07:15.253747Z"
    },
    "papermill": {
     "duration": 0.012133,
     "end_time": "2025-02-26T18:07:15.256110",
     "exception": false,
     "start_time": "2025-02-26T18:07:15.243977",
     "status": "completed"
    },
    "tags": []
   },
   "outputs": [],
   "source": [
    "# Dice Coefficient Metric\n",
    "def dice_coef(y_true, y_pred, smooth=1e-6):\n",
    "    y_true = y_true.view(-1)\n",
    "    y_pred = y_pred.view(-1)\n",
    "    intersection = (y_true * y_pred).sum()\n",
    "    return (2. * intersection + smooth) / (y_true.sum() + y_pred.sum() + smooth)\n",
    "\n",
    "# Dice Loss\n",
    "class DiceLoss(nn.Module):\n",
    "    def __init__(self):\n",
    "        super(DiceLoss, self).__init__()\n",
    "\n",
    "    def forward(self, y_pred, y_true):\n",
    "        return 1 - dice_coef(y_true, y_pred)\n",
    "\n",
    "# Define Loss & Optimizer\n",
    "criterion = nn.BCEWithLogitsLoss()\n",
    "dice_loss = DiceLoss()\n",
    "optimizer = optim.Adam(model.parameters(), lr=1e-4)\n"
   ]
  },
  {
   "cell_type": "code",
   "execution_count": 7,
   "id": "41cb6201",
   "metadata": {
    "execution": {
     "iopub.execute_input": "2025-02-26T18:07:15.262886Z",
     "iopub.status.busy": "2025-02-26T18:07:15.262677Z",
     "iopub.status.idle": "2025-02-26T18:07:15.268684Z",
     "shell.execute_reply": "2025-02-26T18:07:15.267872Z"
    },
    "papermill": {
     "duration": 0.011063,
     "end_time": "2025-02-26T18:07:15.270013",
     "exception": false,
     "start_time": "2025-02-26T18:07:15.258950",
     "status": "completed"
    },
    "tags": []
   },
   "outputs": [],
   "source": [
    "from tqdm import tqdm\n",
    "\n",
    "# Train function\n",
    "def train(model, train_loader, optimizer, criterion, dice_loss, device):\n",
    "    model.train()\n",
    "    total_loss, total_dice = 0, 0\n",
    "\n",
    "    for images, masks in tqdm(train_loader):\n",
    "        images, masks = images.to(device), masks.to(device)\n",
    "\n",
    "        optimizer.zero_grad()\n",
    "        outputs = model(images)\n",
    "\n",
    "        bce = criterion(outputs, masks)\n",
    "        dice = dice_loss(outputs, masks)\n",
    "        loss = bce + dice\n",
    "\n",
    "        loss.backward()\n",
    "        optimizer.step()\n",
    "\n",
    "        total_loss += loss.item()\n",
    "        total_dice += dice_coef(masks, outputs).item()\n",
    "\n",
    "    return total_loss / len(train_loader), total_dice / len(train_loader)\n",
    "\n",
    "# Validation function\n",
    "def validate(model, valid_loader, criterion, dice_loss, device):\n",
    "    model.eval()\n",
    "    total_loss, total_dice = 0, 0\n",
    "\n",
    "    with torch.no_grad():\n",
    "        for images, masks in tqdm(valid_loader):\n",
    "            images, masks = images.to(device), masks.to(device)\n",
    "            outputs = model(images)\n",
    "\n",
    "            bce = criterion(outputs, masks)\n",
    "            dice = dice_loss(outputs, masks)\n",
    "            loss = bce + dice\n",
    "\n",
    "            total_loss += loss.item()\n",
    "            total_dice += dice_coef(masks, outputs).item()\n",
    "\n",
    "    return total_loss / len(valid_loader), total_dice / len(valid_loader)\n"
   ]
  },
  {
   "cell_type": "code",
   "execution_count": 8,
   "id": "c55a9ae8",
   "metadata": {
    "execution": {
     "iopub.execute_input": "2025-02-26T18:07:15.275515Z",
     "iopub.status.busy": "2025-02-26T18:07:15.275287Z",
     "iopub.status.idle": "2025-02-26T19:01:28.182549Z",
     "shell.execute_reply": "2025-02-26T19:01:28.181411Z"
    },
    "papermill": {
     "duration": 3252.911677,
     "end_time": "2025-02-26T19:01:28.184073",
     "exception": false,
     "start_time": "2025-02-26T18:07:15.272396",
     "status": "completed"
    },
    "tags": []
   },
   "outputs": [
    {
     "name": "stderr",
     "output_type": "stream",
     "text": [
      "100%|██████████| 154/154 [02:59<00:00,  1.17s/it]\n",
      "100%|██████████| 20/20 [00:13<00:00,  1.52it/s]\n"
     ]
    },
    {
     "name": "stdout",
     "output_type": "stream",
     "text": [
      "Epoch 1/20 - Train Loss: 1.7322 - Train Dice: 0.0931 - Valid Loss: 1.6815 - Valid Dice: 0.1192\n",
      "Model Saved!\n"
     ]
    },
    {
     "name": "stderr",
     "output_type": "stream",
     "text": [
      "100%|██████████| 154/154 [02:25<00:00,  1.06it/s]\n",
      "100%|██████████| 20/20 [00:07<00:00,  2.67it/s]\n"
     ]
    },
    {
     "name": "stdout",
     "output_type": "stream",
     "text": [
      "Epoch 2/20 - Train Loss: 1.6434 - Train Dice: 0.1358 - Valid Loss: 1.6134 - Valid Dice: 0.1547\n",
      "Model Saved!\n"
     ]
    },
    {
     "name": "stderr",
     "output_type": "stream",
     "text": [
      "100%|██████████| 154/154 [02:29<00:00,  1.03it/s]\n",
      "100%|██████████| 20/20 [00:07<00:00,  2.65it/s]\n"
     ]
    },
    {
     "name": "stdout",
     "output_type": "stream",
     "text": [
      "Epoch 3/20 - Train Loss: 1.5681 - Train Dice: 0.1850 - Valid Loss: 1.5390 - Valid Dice: 0.2094\n",
      "Model Saved!\n"
     ]
    },
    {
     "name": "stderr",
     "output_type": "stream",
     "text": [
      "100%|██████████| 154/154 [02:32<00:00,  1.01it/s]\n",
      "100%|██████████| 20/20 [00:07<00:00,  2.59it/s]\n"
     ]
    },
    {
     "name": "stdout",
     "output_type": "stream",
     "text": [
      "Epoch 4/20 - Train Loss: 1.4870 - Train Dice: 0.2461 - Valid Loss: 1.4411 - Valid Dice: 0.2829\n",
      "Model Saved!\n"
     ]
    },
    {
     "name": "stderr",
     "output_type": "stream",
     "text": [
      "100%|██████████| 154/154 [02:31<00:00,  1.02it/s]\n",
      "100%|██████████| 20/20 [00:07<00:00,  2.53it/s]\n"
     ]
    },
    {
     "name": "stdout",
     "output_type": "stream",
     "text": [
      "Epoch 5/20 - Train Loss: 1.3915 - Train Dice: 0.3256 - Valid Loss: 1.3440 - Valid Dice: 0.3657\n",
      "Model Saved!\n"
     ]
    },
    {
     "name": "stderr",
     "output_type": "stream",
     "text": [
      "100%|██████████| 154/154 [02:32<00:00,  1.01it/s]\n",
      "100%|██████████| 20/20 [00:07<00:00,  2.63it/s]\n"
     ]
    },
    {
     "name": "stdout",
     "output_type": "stream",
     "text": [
      "Epoch 6/20 - Train Loss: 1.2859 - Train Dice: 0.4208 - Valid Loss: 1.2491 - Valid Dice: 0.4545\n",
      "Model Saved!\n"
     ]
    },
    {
     "name": "stderr",
     "output_type": "stream",
     "text": [
      "100%|██████████| 154/154 [02:36<00:00,  1.02s/it]\n",
      "100%|██████████| 20/20 [00:08<00:00,  2.31it/s]\n"
     ]
    },
    {
     "name": "stdout",
     "output_type": "stream",
     "text": [
      "Epoch 7/20 - Train Loss: 1.1803 - Train Dice: 0.5195 - Valid Loss: 1.1329 - Valid Dice: 0.5646\n",
      "Model Saved!\n"
     ]
    },
    {
     "name": "stderr",
     "output_type": "stream",
     "text": [
      "100%|██████████| 154/154 [02:38<00:00,  1.03s/it]\n",
      "100%|██████████| 20/20 [00:07<00:00,  2.62it/s]\n"
     ]
    },
    {
     "name": "stdout",
     "output_type": "stream",
     "text": [
      "Epoch 8/20 - Train Loss: 1.1002 - Train Dice: 0.5959 - Valid Loss: 1.0570 - Valid Dice: 0.6379\n",
      "Model Saved!\n"
     ]
    },
    {
     "name": "stderr",
     "output_type": "stream",
     "text": [
      "100%|██████████| 154/154 [02:33<00:00,  1.00it/s]\n",
      "100%|██████████| 20/20 [00:08<00:00,  2.40it/s]\n"
     ]
    },
    {
     "name": "stdout",
     "output_type": "stream",
     "text": [
      "Epoch 9/20 - Train Loss: 1.0352 - Train Dice: 0.6586 - Valid Loss: 1.0164 - Valid Dice: 0.6761\n",
      "Model Saved!\n"
     ]
    },
    {
     "name": "stderr",
     "output_type": "stream",
     "text": [
      "100%|██████████| 154/154 [02:35<00:00,  1.01s/it]\n",
      "100%|██████████| 20/20 [00:07<00:00,  2.55it/s]\n"
     ]
    },
    {
     "name": "stdout",
     "output_type": "stream",
     "text": [
      "Epoch 10/20 - Train Loss: 0.9895 - Train Dice: 0.7030 - Valid Loss: 1.0017 - Valid Dice: 0.6902\n",
      "Model Saved!\n"
     ]
    },
    {
     "name": "stderr",
     "output_type": "stream",
     "text": [
      "100%|██████████| 154/154 [02:32<00:00,  1.01it/s]\n",
      "100%|██████████| 20/20 [00:07<00:00,  2.59it/s]\n"
     ]
    },
    {
     "name": "stdout",
     "output_type": "stream",
     "text": [
      "Epoch 11/20 - Train Loss: 0.9503 - Train Dice: 0.7411 - Valid Loss: 0.9879 - Valid Dice: 0.7033\n",
      "Model Saved!\n"
     ]
    },
    {
     "name": "stderr",
     "output_type": "stream",
     "text": [
      "100%|██████████| 154/154 [02:31<00:00,  1.01it/s]\n",
      "100%|██████████| 20/20 [00:07<00:00,  2.63it/s]\n"
     ]
    },
    {
     "name": "stdout",
     "output_type": "stream",
     "text": [
      "Epoch 12/20 - Train Loss: 0.9134 - Train Dice: 0.7773 - Valid Loss: 0.9365 - Valid Dice: 0.7544\n",
      "Model Saved!\n"
     ]
    },
    {
     "name": "stderr",
     "output_type": "stream",
     "text": [
      "100%|██████████| 154/154 [02:33<00:00,  1.00it/s]\n",
      "100%|██████████| 20/20 [00:10<00:00,  1.95it/s]\n"
     ]
    },
    {
     "name": "stdout",
     "output_type": "stream",
     "text": [
      "Epoch 13/20 - Train Loss: 0.8967 - Train Dice: 0.7936 - Valid Loss: 0.9362 - Valid Dice: 0.7542\n",
      "Model Saved!\n"
     ]
    },
    {
     "name": "stderr",
     "output_type": "stream",
     "text": [
      "100%|██████████| 154/154 [02:32<00:00,  1.01it/s]\n",
      "100%|██████████| 20/20 [00:07<00:00,  2.60it/s]\n"
     ]
    },
    {
     "name": "stdout",
     "output_type": "stream",
     "text": [
      "Epoch 14/20 - Train Loss: 0.8837 - Train Dice: 0.8064 - Valid Loss: 0.9091 - Valid Dice: 0.7810\n",
      "Model Saved!\n"
     ]
    },
    {
     "name": "stderr",
     "output_type": "stream",
     "text": [
      "100%|██████████| 154/154 [02:31<00:00,  1.02it/s]\n",
      "100%|██████████| 20/20 [00:07<00:00,  2.61it/s]\n"
     ]
    },
    {
     "name": "stdout",
     "output_type": "stream",
     "text": [
      "Epoch 15/20 - Train Loss: 0.8609 - Train Dice: 0.8288 - Valid Loss: 0.8947 - Valid Dice: 0.7953\n",
      "Model Saved!\n"
     ]
    },
    {
     "name": "stderr",
     "output_type": "stream",
     "text": [
      "100%|██████████| 154/154 [02:31<00:00,  1.02it/s]\n",
      "100%|██████████| 20/20 [00:07<00:00,  2.63it/s]\n"
     ]
    },
    {
     "name": "stdout",
     "output_type": "stream",
     "text": [
      "Epoch 16/20 - Train Loss: 0.8515 - Train Dice: 0.8380 - Valid Loss: 0.8911 - Valid Dice: 0.7986\n",
      "Model Saved!\n"
     ]
    },
    {
     "name": "stderr",
     "output_type": "stream",
     "text": [
      "100%|██████████| 154/154 [02:31<00:00,  1.02it/s]\n",
      "100%|██████████| 20/20 [00:07<00:00,  2.61it/s]\n"
     ]
    },
    {
     "name": "stdout",
     "output_type": "stream",
     "text": [
      "Epoch 17/20 - Train Loss: 0.8426 - Train Dice: 0.8467 - Valid Loss: 0.9259 - Valid Dice: 0.7639\n"
     ]
    },
    {
     "name": "stderr",
     "output_type": "stream",
     "text": [
      "100%|██████████| 154/154 [02:34<00:00,  1.01s/it]\n",
      "100%|██████████| 20/20 [00:07<00:00,  2.61it/s]\n"
     ]
    },
    {
     "name": "stdout",
     "output_type": "stream",
     "text": [
      "Epoch 18/20 - Train Loss: 0.8358 - Train Dice: 0.8534 - Valid Loss: 0.9113 - Valid Dice: 0.7784\n"
     ]
    },
    {
     "name": "stderr",
     "output_type": "stream",
     "text": [
      "100%|██████████| 154/154 [02:32<00:00,  1.01it/s]\n",
      "100%|██████████| 20/20 [00:07<00:00,  2.52it/s]\n"
     ]
    },
    {
     "name": "stdout",
     "output_type": "stream",
     "text": [
      "Epoch 19/20 - Train Loss: 0.8257 - Train Dice: 0.8632 - Valid Loss: 0.8684 - Valid Dice: 0.8210\n",
      "Model Saved!\n"
     ]
    },
    {
     "name": "stderr",
     "output_type": "stream",
     "text": [
      "100%|██████████| 154/154 [02:36<00:00,  1.02s/it]\n",
      "100%|██████████| 20/20 [00:07<00:00,  2.59it/s]"
     ]
    },
    {
     "name": "stdout",
     "output_type": "stream",
     "text": [
      "Epoch 20/20 - Train Loss: 0.8203 - Train Dice: 0.8686 - Valid Loss: 0.9151 - Valid Dice: 0.7747\n"
     ]
    },
    {
     "name": "stderr",
     "output_type": "stream",
     "text": [
      "\n"
     ]
    }
   ],
   "source": [
    "# Load Data\n",
    "train_loader, valid_loader, test_loader = create_dataloaders(\"/kaggle/input/brain-tumor-dataset-includes-the-mask-and-images/data/data\", batch_size=16)\n",
    "\n",
    "# Training Loop\n",
    "num_epochs = 20\n",
    "best_valid_loss = float(\"inf\")\n",
    "\n",
    "for epoch in range(num_epochs):\n",
    "    train_loss, train_dice = train(model, train_loader, optimizer, criterion, dice_loss, device)\n",
    "    valid_loss, valid_dice = validate(model, valid_loader, criterion, dice_loss, device)\n",
    "\n",
    "    print(f\"Epoch {epoch+1}/{num_epochs} - Train Loss: {train_loss:.4f} - Train Dice: {train_dice:.4f} - Valid Loss: {valid_loss:.4f} - Valid Dice: {valid_dice:.4f}\")\n",
    "\n",
    "    # Save Best Model\n",
    "    if valid_loss < best_valid_loss:\n",
    "        best_valid_loss = valid_loss\n",
    "        torch.save(model.state_dict(), \"best_unet.pth\")\n",
    "        print(\"Model Saved!\")\n"
   ]
  },
  {
   "cell_type": "code",
   "execution_count": 9,
   "id": "65adbb35",
   "metadata": {
    "execution": {
     "iopub.execute_input": "2025-02-26T19:01:28.498911Z",
     "iopub.status.busy": "2025-02-26T19:01:28.498603Z",
     "iopub.status.idle": "2025-02-26T19:01:42.689623Z",
     "shell.execute_reply": "2025-02-26T19:01:42.688663Z"
    },
    "papermill": {
     "duration": 14.349224,
     "end_time": "2025-02-26T19:01:42.691019",
     "exception": false,
     "start_time": "2025-02-26T19:01:28.341795",
     "status": "completed"
    },
    "tags": []
   },
   "outputs": [
    {
     "name": "stderr",
     "output_type": "stream",
     "text": [
      "<ipython-input-9-4a856688fb6c>:2: FutureWarning: You are using `torch.load` with `weights_only=False` (the current default value), which uses the default pickle module implicitly. It is possible to construct malicious pickle data which will execute arbitrary code during unpickling (See https://github.com/pytorch/pytorch/blob/main/SECURITY.md#untrusted-models for more details). In a future release, the default value for `weights_only` will be flipped to `True`. This limits the functions that could be executed during unpickling. Arbitrary objects will no longer be allowed to be loaded via this mode unless they are explicitly allowlisted by the user via `torch.serialization.add_safe_globals`. We recommend you start setting `weights_only=True` for any use case where you don't have full control of the loaded file. Please open an issue on GitHub for any issues related to this experimental feature.\n",
      "  model.load_state_dict(torch.load(\"best_unet.pth\"))\n",
      "100%|██████████| 20/20 [00:14<00:00,  1.42it/s]"
     ]
    },
    {
     "name": "stdout",
     "output_type": "stream",
     "text": [
      "Test Loss: 0.9056 - Test Dice Score: 0.7844\n"
     ]
    },
    {
     "name": "stderr",
     "output_type": "stream",
     "text": [
      "\n"
     ]
    }
   ],
   "source": [
    "# Load Best Model\n",
    "model.load_state_dict(torch.load(\"best_unet.pth\"))\n",
    "\n",
    "# Evaluate on Test Data\n",
    "test_loss, test_dice = validate(model, test_loader, criterion, dice_loss, device)\n",
    "print(f\"Test Loss: {test_loss:.4f} - Test Dice Score: {test_dice:.4f}\")"
   ]
  }
 ],
 "metadata": {
  "kaggle": {
   "accelerator": "nvidiaTeslaT4",
   "dataSources": [
    {
     "datasetId": 1872127,
     "sourceId": 3058729,
     "sourceType": "datasetVersion"
    }
   ],
   "dockerImageVersionId": 30919,
   "isGpuEnabled": true,
   "isInternetEnabled": true,
   "language": "python",
   "sourceType": "notebook"
  },
  "kernelspec": {
   "display_name": "Python 3",
   "language": "python",
   "name": "python3"
  },
  "language_info": {
   "codemirror_mode": {
    "name": "ipython",
    "version": 3
   },
   "file_extension": ".py",
   "mimetype": "text/x-python",
   "name": "python",
   "nbconvert_exporter": "python",
   "pygments_lexer": "ipython3",
   "version": "3.10.12"
  },
  "papermill": {
   "default_parameters": {},
   "duration": 3281.550892,
   "end_time": "2025-02-26T19:01:44.377612",
   "environment_variables": {},
   "exception": null,
   "input_path": "__notebook__.ipynb",
   "output_path": "__notebook__.ipynb",
   "parameters": {},
   "start_time": "2025-02-26T18:07:02.826720",
   "version": "2.6.0"
  }
 },
 "nbformat": 4,
 "nbformat_minor": 5
}
